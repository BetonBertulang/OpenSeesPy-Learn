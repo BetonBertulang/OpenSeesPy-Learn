{
 "cells": [
  {
   "cell_type": "code",
   "execution_count": 104,
   "metadata": {},
   "outputs": [
    {
     "name": "stderr",
     "output_type": "stream",
     "text": [
      "WARNING analysis Static - no Algorithm yet specified, \n",
      " NewtonRaphson default will be used\n"
     ]
    },
    {
     "data": {
      "text/plain": [
       "0.053009277713228366"
      ]
     },
     "execution_count": 104,
     "metadata": {},
     "output_type": "execute_result"
    }
   ],
   "source": [
    "import numpy as np\n",
    "from openseespy.opensees import *\n",
    "\n",
    "\n",
    "# import vfo.vfo as vfo\n",
    "\n",
    "#Unit : Kip, in\n",
    "\n",
    "#Remove existing model\n",
    "wipe()\n",
    "\n",
    "#Create Model (with two-dimensional and 2 DOF)\n",
    "model('basic', '-ndm', 2, '-ndf', 2)\n",
    "\n",
    "# vfo.setMode(\"html\")\n",
    "# vfo.createODB(model=\"Truss_Model\")\n",
    "\n",
    "#Create Nodes\n",
    "node(1, 0., 0.)\n",
    "node(2,144.,0.)\n",
    "node(3,168.,0.)\n",
    "node(4,72.,96.)\n",
    "\n",
    "#Set Boundary Conditions\n",
    "fix(1, 1, 1)\n",
    "fix(2, 1, 1)\n",
    "fix(3, 1, 1)\n",
    "\n",
    "#Define Material\n",
    "E = 30000\n",
    "uniaxialMaterial(\"Elastic\", 1, E)\n",
    "\n",
    "#Define Element\n",
    "# element(eleType, eleTag, *eleNodes, *eleArgs)\n",
    "A1 = 10\n",
    "A2 = 5\n",
    "\n",
    "element(\"Truss\",1,1,4,A1,1)\n",
    "element(\"Truss\",2,2,4,A2,1)\n",
    "element(\"Truss\",3,3,4,A2,1)\n",
    "\n",
    "\n",
    "#Define Load\n",
    "timeSeries(\"Linear\",1)\n",
    "\n",
    "#Create a plain load pattern\n",
    "pattern(\"Plain\",1,1)\n",
    "\n",
    "#Create load of the nodal\n",
    "\n",
    "load(4,100,-50)\n",
    "\n",
    "#Start Analysis generation\n",
    "system(\"BandSPD\")\n",
    "\n",
    "#Create SOE\n",
    "numberer(\"RCM\")\n",
    "\n",
    "#Create Constraint handler\n",
    "constraints(\"Plain\")\n",
    "\n",
    "#Create Integrator\n",
    "integrator(\"LoadControl\",1.0)\n",
    "\n",
    "#Create Analysis Object\n",
    "analysis(\"Static\")\n",
    "\n",
    "#Perform the analysis\n",
    "analyze(1)\n",
    "\n",
    "ux = nodeDisp(4,1)\n",
    "uy = nodeDisp(4,2)\n",
    "\n",
    "nodeResponse(4,1,1)\n",
    "\n"
   ]
  },
  {
   "cell_type": "code",
   "execution_count": 89,
   "metadata": {},
   "outputs": [
    {
     "data": {
      "text/plain": [
       "1.0"
      ]
     },
     "execution_count": 89,
     "metadata": {},
     "output_type": "execute_result"
    }
   ],
   "source": []
  }
 ],
 "metadata": {
  "kernelspec": {
   "display_name": "base",
   "language": "python",
   "name": "python3"
  },
  "language_info": {
   "codemirror_mode": {
    "name": "ipython",
    "version": 3
   },
   "file_extension": ".py",
   "mimetype": "text/x-python",
   "name": "python",
   "nbconvert_exporter": "python",
   "pygments_lexer": "ipython3",
   "version": "3.9.13"
  }
 },
 "nbformat": 4,
 "nbformat_minor": 2
}
